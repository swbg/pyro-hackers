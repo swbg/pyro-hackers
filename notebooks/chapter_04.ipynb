{
 "cells": [
  {
   "cell_type": "code",
   "execution_count": 1,
   "id": "going-wayne",
   "metadata": {},
   "outputs": [],
   "source": [
    "import matplotlib.pyplot as plt\n",
    "import numpy as np\n",
    "import pyro\n",
    "import pyro.distributions as dist\n",
    "import seaborn as sns\n",
    "import torch\n",
    "from pyro.infer import MCMC, NUTS\n",
    "from scipy.stats import beta\n",
    "\n",
    "sns.set_palette(\"Set2\")"
   ]
  },
  {
   "cell_type": "code",
   "execution_count": 2,
   "id": "elect-fairy",
   "metadata": {},
   "outputs": [],
   "source": [
    "# We will skip connecting to the reddit API and just use the voting ratios\n",
    "votes = torch.tensor([[32, 3], [1918, 101], [79, 17], [33, 6]])"
   ]
  },
  {
   "cell_type": "code",
   "execution_count": 3,
   "id": "smoking-newsletter",
   "metadata": {},
   "outputs": [],
   "source": [
    "def voting_model(up, down):\n",
    "    up_rate = pyro.sample(\"up_rate\", dist.Uniform(0, 1))\n",
    "    pyro.sample(\"rating\", dist.Binomial(total_count=up + down, probs=up_rate), obs=up)"
   ]
  },
  {
   "cell_type": "code",
   "execution_count": 4,
   "id": "prospective-avatar",
   "metadata": {},
   "outputs": [
    {
     "name": "stderr",
     "output_type": "stream",
     "text": [
      "Sample: 100%|██████████| 1200/1200 [00:03, 380.68it/s, step size=8.41e-01, acc. prob=0.894]\n",
      "Sample: 100%|██████████| 1200/1200 [00:04, 299.38it/s, step size=1.03e+00, acc. prob=0.940]\n",
      "Sample: 100%|██████████| 1200/1200 [00:03, 345.89it/s, step size=1.25e+00, acc. prob=0.908]\n",
      "Sample: 100%|██████████| 1200/1200 [00:03, 356.30it/s, step size=1.17e+00, acc. prob=0.907]\n"
     ]
    }
   ],
   "source": [
    "nuts_kernel = NUTS(voting_model)\n",
    "\n",
    "mcmc = MCMC(nuts_kernel, num_samples=1000, warmup_steps=200)\n",
    "\n",
    "results = []\n",
    "\n",
    "for up, down in votes:\n",
    "    mcmc.run(up, down)\n",
    "    results.append(mcmc.get_samples()[\"up_rate\"].detach().cpu().numpy())"
   ]
  },
  {
   "cell_type": "code",
   "execution_count": 5,
   "id": "vocational-sussex",
   "metadata": {},
   "outputs": [
    {
     "data": {
      "image/png": "[encoded data removed]",
      "text/plain": [
       "<Figure size 432x288 with 1 Axes>"
      ]
     },
     "metadata": {
      "needs_background": "light"
     },
     "output_type": "display_data"
    }
   ],
   "source": [
    "fig, ax = plt.subplots()\n",
    "\n",
    "for r in results:\n",
    "    ax.hist(r, bins=40, range=(0.5, 1.0), alpha=0.7)\n",
    "\n",
    "ax.set_xlim((0.5, 1))\n",
    "\n",
    "plt.show()"
   ]
  },
  {
   "cell_type": "code",
   "execution_count": 6,
   "id": "effective-drive",
   "metadata": {},
   "outputs": [],
   "source": [
    "# The TF tutorial uses\n",
    "votes_tf = torch.tensor([[45, 6], [612, 35], [335, 10], [162, 20]])"
   ]
  },
  {
   "cell_type": "code",
   "execution_count": 7,
   "id": "aerial-decade",
   "metadata": {},
   "outputs": [
    {
     "name": "stderr",
     "output_type": "stream",
     "text": [
      "Sample: 100%|██████████| 1200/1200 [00:03, 343.41it/s, step size=1.00e+00, acc. prob=0.883]\n",
      "Sample: 100%|██████████| 1200/1200 [00:03, 344.96it/s, step size=1.31e+00, acc. prob=0.924]\n",
      "Sample: 100%|██████████| 1200/1200 [00:03, 385.46it/s, step size=1.44e+00, acc. prob=0.889]\n",
      "Sample: 100%|██████████| 1200/1200 [00:03, 339.03it/s, step size=1.25e+00, acc. prob=0.906]\n"
     ]
    }
   ],
   "source": [
    "results_tf = []\n",
    "\n",
    "for up, down in votes_tf:\n",
    "    mcmc.run(up, down)\n",
    "    results_tf.append(mcmc.get_samples()[\"up_rate\"].detach().cpu().numpy())"
   ]
  },
  {
   "cell_type": "code",
   "execution_count": 8,
   "id": "induced-acrobat",
   "metadata": {},
   "outputs": [
    {
     "data": {
      "image/png": "[encoded data removed]",
      "text/plain": [
       "<Figure size 432x288 with 1 Axes>"
      ]
     },
     "metadata": {
      "needs_background": "light"
     },
     "output_type": "display_data"
    }
   ],
   "source": [
    "fig, ax = plt.subplots()\n",
    "\n",
    "for r in results_tf:\n",
    "    ax.hist(r, bins=40, range=(0.7, 1.0), alpha=0.7)\n",
    "\n",
    "ax.set_xlim((0.7, 1))\n",
    "\n",
    "plt.show()"
   ]
  },
  {
   "cell_type": "code",
   "execution_count": 9,
   "id": "coral-spell",
   "metadata": {},
   "outputs": [],
   "source": [
    "# We know that the Beta-(1, 1) prior is conjugate to our Binomial likelihood\n",
    "# This makes calculating the exact posterior distributions really easy\n",
    "posterior_parameters = 1 + votes_tf.numpy()"
   ]
  },
  {
   "cell_type": "code",
   "execution_count": 10,
   "id": "external-praise",
   "metadata": {},
   "outputs": [
    {
     "data": {
      "image/png": "[encoded data removed]",
      "text/plain": [
       "<Figure size 432x288 with 1 Axes>"
      ]
     },
     "metadata": {
      "needs_background": "light"
     },
     "output_type": "display_data"
    }
   ],
   "source": [
    "fig, ax = plt.subplots()\n",
    "\n",
    "for i, r in enumerate(results_tf):\n",
    "    ax.hist(r, bins=40, range=(0.7, 1.0), alpha=0.3, color=sns.color_palette()[i], density=True)\n",
    "\n",
    "xx = np.linspace(0.5, 1.0, 100)\n",
    "yy = beta.pdf(np.tile(xx, [4, 1]).T, posterior_parameters[:, 0], posterior_parameters[:, 1]).T\n",
    "\n",
    "for i, y in enumerate(yy):\n",
    "    ax.plot(xx, y, color=sns.color_palette()[i])\n",
    "\n",
    "ax.set_xlim((0.7, 1))\n",
    "\n",
    "plt.show()"
   ]
  }
 ],
 "metadata": {
  "kernelspec": {
   "display_name": "pyro",
   "language": "python",
   "name": "pyro"
  },
  "language_info": {
   "codemirror_mode": {
    "name": "ipython",
    "version": 3
   },
   "file_extension": ".py",
   "mimetype": "text/x-python",
   "name": "python",
   "nbconvert_exporter": "python",
   "pygments_lexer": "ipython3",
   "version": "3.9.2"
  }
 },
 "nbformat": 4,
 "nbformat_minor": 5
}
