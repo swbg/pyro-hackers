{
 "cells": [
  {
   "cell_type": "code",
   "execution_count": 1,
   "id": "going-preserve",
   "metadata": {},
   "outputs": [],
   "source": [
    "import matplotlib.pyplot as plt\n",
    "import numpy as np\n",
    "import pyro\n",
    "import pyro.distributions as dist\n",
    "import seaborn as sns\n",
    "import torch\n",
    "import yfinance as yf\n",
    "from IPython.core.display import HTML\n",
    "from matplotlib.animation import FuncAnimation\n",
    "from pyro.infer import MCMC, NUTS\n",
    "from scipy.stats import beta\n",
    "\n",
    "sns.set_palette(\"Set2\")"
   ]
  },
  {
   "cell_type": "markdown",
   "id": "freelance-incidence",
   "metadata": {},
   "source": [
    "## Bandits"
   ]
  },
  {
   "cell_type": "code",
   "execution_count": 2,
   "id": "coated-interaction",
   "metadata": {},
   "outputs": [],
   "source": [
    "# The original implementation does not use probabilistic programming so\n",
    "# we will just have some fun translating it to a more lightweight version"
   ]
  },
  {
   "cell_type": "code",
   "execution_count": 3,
   "id": "distributed-valuation",
   "metadata": {},
   "outputs": [],
   "source": [
    "np.random.seed(25)\n",
    "\n",
    "n_bandits = 5\n",
    "n_iterations = 500\n",
    "\n",
    "win_probs = np.random.uniform(size=n_bandits)\n",
    "\n",
    "choices = np.zeros(n_iterations)\n",
    "wins = np.zeros([n_iterations, n_bandits])\n",
    "trials = np.zeros([n_iterations, n_bandits])\n",
    "\n",
    "for i in range(1, n_iterations):\n",
    "    choice = np.argmax(np.random.beta(1 + wins[i - 1], 1 + trials[i - 1] - wins[i - 1]))\n",
    "\n",
    "    choices[i - 1] = choice\n",
    "    trials[i:, choice] += 1\n",
    "    wins[i:, choice] += np.random.uniform() < win_probs[choice]"
   ]
  },
  {
   "cell_type": "code",
   "execution_count": 4,
   "id": "elect-trance",
   "metadata": {
    "scrolled": false
   },
   "outputs": [],
   "source": [
    "# Let's animate the results\n",
    "iteration_i = 0\n",
    "xx = np.linspace(0, 1, 100)\n",
    "\n",
    "fig, ax = plt.subplots(figsize=(10, 6))\n",
    "\n",
    "lines = []\n",
    "\n",
    "for bandit_j in range(n_bandits):\n",
    "    color = sns.color_palette()[bandit_j]\n",
    "\n",
    "    lines.append(\n",
    "        ax.plot(\n",
    "            xx,\n",
    "            beta.pdf(\n",
    "                xx,\n",
    "                1 + wins[iteration_i][bandit_j],\n",
    "                1 + trials[iteration_i][bandit_j] - wins[iteration_i][bandit_j],\n",
    "            ),\n",
    "            color=color,\n",
    "        )[0]\n",
    "    )\n",
    "\n",
    "    ax.axvline(x=win_probs[bandit_j], color=color, linestyle=\"--\")\n",
    "\n",
    "\n",
    "ax.set_title(f\"Iteration {iteration_i + 1}\")\n",
    "ax.set_xlim((0, 1))\n",
    "ax.set_ylim((0, 10))\n",
    "\n",
    "\n",
    "def update(iteration_i):\n",
    "    for bandit_j, ln in enumerate(lines):\n",
    "        ln.set_data(\n",
    "            xx,\n",
    "            beta.pdf(\n",
    "                xx,\n",
    "                1 + wins[iteration_i][bandit_j],\n",
    "                1 + trials[iteration_i][bandit_j] - wins[iteration_i][bandit_j],\n",
    "            ),\n",
    "        )\n",
    "    ax.set_title(f\"Iteration {iteration_i + 1}\")\n",
    "    return (lines[0],)\n",
    "\n",
    "\n",
    "animation = FuncAnimation(fig, update, frames=np.arange(0, n_iterations), blit=True, interval=0.1)\n",
    "\n",
    "animation.save(\"output/bandits.gif\", dpi=150, savefig_kwargs={\"facecolor\": \"#FFFFFF\"})\n",
    "\n",
    "plt.close()"
   ]
  },
  {
   "cell_type": "code",
   "execution_count": 5,
   "id": "finished-supply",
   "metadata": {},
   "outputs": [
    {
     "data": {
      "text/html": [
       "<img src=output/bandits.gif>"
      ],
      "text/plain": [
       "<IPython.core.display.HTML object>"
      ]
     },
     "execution_count": 5,
     "metadata": {},
     "output_type": "execute_result"
    }
   ],
   "source": [
    "HTML(\"<img src=output/bandits.gif>\")"
   ]
  },
  {
   "cell_type": "code",
   "execution_count": 6,
   "id": "surrounded-exemption",
   "metadata": {},
   "outputs": [],
   "source": [
    "bandit_regret = (np.max(win_probs) - win_probs[choices.astype(int)]).cumsum()\n",
    "random_regret = (np.max(win_probs) - win_probs[np.random.choice(n_bandits, size=n_iterations)]).cumsum()"
   ]
  },
  {
   "cell_type": "code",
   "execution_count": 7,
   "id": "japanese-iceland",
   "metadata": {},
   "outputs": [
    {
     "data": {
      "image/png": "[encoded data removed]",
      "text/plain": [
       "<Figure size 432x288 with 1 Axes>"
      ]
     },
     "metadata": {
      "needs_background": "light"
     },
     "output_type": "display_data"
    }
   ],
   "source": [
    "fig, ax = plt.subplots()\n",
    "\n",
    "ax.plot(np.arange(n_iterations), bandit_regret, label=\"Bandits\")\n",
    "ax.plot(np.arange(n_iterations), random_regret, label=\"Random\")\n",
    "\n",
    "ax.legend()\n",
    "ax.set_ylabel(\"Regret\")\n",
    "ax.set_xlabel(\"Iteration\")\n",
    "\n",
    "plt.show()"
   ]
  },
  {
   "cell_type": "markdown",
   "id": "processed-prefix",
   "metadata": {},
   "source": [
    "## Stock prices"
   ]
  },
  {
   "cell_type": "code",
   "execution_count": 8,
   "id": "speaking-gregory",
   "metadata": {},
   "outputs": [
    {
     "name": "stdout",
     "output_type": "stream",
     "text": [
      "[*********************100%***********************]  4 of 4 completed\n"
     ]
    }
   ],
   "source": [
    "n_observations = 100\n",
    "\n",
    "stocks = [\"AAPL\", \"GOOG\", \"TSLA\", \"AMZN\"]\n",
    "\n",
    "start_date = \"2012-09-01\"\n",
    "end_date = \"2015-04-27\"\n",
    "\n",
    "data = yf.download(stocks, start_date, end_date)"
   ]
  },
  {
   "cell_type": "code",
   "execution_count": 9,
   "id": "defined-nylon",
   "metadata": {},
   "outputs": [],
   "source": [
    "close_values = data[\"Adj Close\"][stocks].pct_change().iloc[-n_observations:].values"
   ]
  },
  {
   "cell_type": "code",
   "execution_count": 10,
   "id": "assured-redhead",
   "metadata": {},
   "outputs": [],
   "source": [
    "def stock_model(close_values):\n",
    "    # We will create our covariance matrix by hand\n",
    "    corr_matrix = pyro.sample(\"lkj\", dist.LKJ(dim=close_values.shape[1], concentration=1))\n",
    "    sds = pyro.sample(\"sds\", dist.Exponential(rate=0.01).expand([close_values.shape[1]]))\n",
    "    cov_matrix = torch.diag(sds) @ corr_matrix @ torch.diag(sds)\n",
    "    locs = pyro.sample(\"locs\", dist.Normal(loc=0, scale=1).expand([close_values.shape[1]]))\n",
    "\n",
    "    with pyro.plate(\"plate\", close_values.shape[0]):\n",
    "        pyro.sample(\n",
    "            \"close_values_sampled\", dist.MultivariateNormal(loc=locs, covariance_matrix=cov_matrix), obs=close_values\n",
    "        )"
   ]
  },
  {
   "cell_type": "code",
   "execution_count": 11,
   "id": "extensive-moses",
   "metadata": {},
   "outputs": [
    {
     "name": "stderr",
     "output_type": "stream",
     "text": [
      "Sample: 100%|██████████| 1200/1200 [06:59,  2.86it/s, step size=8.87e-02, acc. prob=0.939]\n"
     ]
    }
   ],
   "source": [
    "nuts_kernel = NUTS(stock_model)\n",
    "\n",
    "mcmc = MCMC(nuts_kernel, num_samples=1000, warmup_steps=200)\n",
    "mcmc.run(torch.tensor(close_values).float())"
   ]
  },
  {
   "cell_type": "code",
   "execution_count": 12,
   "id": "sixth-messenger",
   "metadata": {},
   "outputs": [],
   "source": [
    "mcmc_samples = {k: v.detach().cpu().numpy() for k, v in mcmc.get_samples().items()}"
   ]
  },
  {
   "cell_type": "code",
   "execution_count": 13,
   "id": "expressed-archive",
   "metadata": {},
   "outputs": [
    {
     "data": {
      "image/png": "[encoded data removed]",
      "text/plain": [
       "<Figure size 432x288 with 1 Axes>"
      ]
     },
     "metadata": {
      "needs_background": "light"
     },
     "output_type": "display_data"
    }
   ],
   "source": [
    "fig, ax = plt.subplots()\n",
    "\n",
    "ax.imshow(mcmc_samples[\"lkj\"].mean(axis=0))\n",
    "\n",
    "ax.set_xticks(range(4))\n",
    "ax.set_xticklabels(stocks)\n",
    "ax.set_yticks(range(4))\n",
    "ax.set_yticklabels(stocks)\n",
    "\n",
    "plt.show()"
   ]
  },
  {
   "cell_type": "code",
   "execution_count": 14,
   "id": "modern-productivity",
   "metadata": {},
   "outputs": [
    {
     "data": {
      "image/png": "[encoded data removed]",
      "text/plain": [
       "<Figure size 432x288 with 1 Axes>"
      ]
     },
     "metadata": {
      "needs_background": "light"
     },
     "output_type": "display_data"
    }
   ],
   "source": [
    "fig, ax = plt.subplots()\n",
    "\n",
    "ax.bar(stocks, mcmc_samples[\"sds\"].mean(axis=0))\n",
    "\n",
    "plt.show()"
   ]
  }
 ],
 "metadata": {
  "kernelspec": {
   "display_name": "pyro",
   "language": "python",
   "name": "pyro"
  },
  "language_info": {
   "codemirror_mode": {
    "name": "ipython",
    "version": 3
   },
   "file_extension": ".py",
   "mimetype": "text/x-python",
   "name": "python",
   "nbconvert_exporter": "python",
   "pygments_lexer": "ipython3",
   "version": "3.9.2"
  }
 },
 "nbformat": 4,
 "nbformat_minor": 5
}
